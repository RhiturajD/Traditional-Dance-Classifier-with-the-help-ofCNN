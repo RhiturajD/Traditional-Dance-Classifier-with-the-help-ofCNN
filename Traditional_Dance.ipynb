{
  "nbformat": 4,
  "nbformat_minor": 0,
  "metadata": {
    "colab": {
      "provenance": [],
      "mount_file_id": "16yi5Osn52tTTxBCRKpVtbHv6OUEmc_HI",
      "authorship_tag": "ABX9TyOyUe5/8+JUVVd91pKyiwgm",
      "include_colab_link": true
    },
    "kernelspec": {
      "name": "python3",
      "display_name": "Python 3"
    },
    "language_info": {
      "name": "python"
    },
    "accelerator": "GPU",
    "gpuClass": "standard"
  },
  "cells": [
    {
      "cell_type": "markdown",
      "metadata": {
        "id": "view-in-github",
        "colab_type": "text"
      },
      "source": [
        "<a href=\"https://colab.research.google.com/github/RhiturajD/Traditional-Dance-Classifier-with-the-help-ofCNN/blob/main/Traditional_Dance.ipynb\" target=\"_parent\"><img src=\"https://colab.research.google.com/assets/colab-badge.svg\" alt=\"Open In Colab\"/></a>"
      ]
    },
    {
      "cell_type": "markdown",
      "source": [],
      "metadata": {
        "id": "EqT5I75M8OQG"
      }
    },
    {
      "cell_type": "code",
      "execution_count": null,
      "metadata": {
        "id": "pCN23M137Uki"
      },
      "outputs": [],
      "source": [
        "import pandas as pd\n",
        "train_df = pd.read_csv('Traditional-Dance-Classification/dataset/train.csv')\n",
        "test_df = pd.read_csv('Traditional-Dance-Classification/dataset/test.csv')\n"
      ]
    },
    {
      "cell_type": "code",
      "source": [
        "print(train_df.head())\n",
        "\n",
        "print(test_df.head())"
      ],
      "metadata": {
        "colab": {
          "base_uri": "https://localhost:8080/",
          "height": 165
        },
        "id": "VndA_01--TQg",
        "outputId": "62c8dd7a-1ef2-4cd4-928d-b5e48aaf7295"
      },
      "execution_count": 1,
      "outputs": [
        {
          "output_type": "error",
          "ename": "NameError",
          "evalue": "ignored",
          "traceback": [
            "\u001b[0;31m---------------------------------------------------------------------------\u001b[0m",
            "\u001b[0;31mNameError\u001b[0m                                 Traceback (most recent call last)",
            "\u001b[0;32m<ipython-input-1-b766dc14ef8f>\u001b[0m in \u001b[0;36m<cell line: 1>\u001b[0;34m()\u001b[0m\n\u001b[0;32m----> 1\u001b[0;31m \u001b[0mprint\u001b[0m\u001b[0;34m(\u001b[0m\u001b[0mtest_df\u001b[0m\u001b[0;34m.\u001b[0m\u001b[0mhead\u001b[0m\u001b[0;34m(\u001b[0m\u001b[0;34m)\u001b[0m\u001b[0;34m)\u001b[0m\u001b[0;34m\u001b[0m\u001b[0;34m\u001b[0m\u001b[0m\n\u001b[0m",
            "\u001b[0;31mNameError\u001b[0m: name 'test_df' is not defined"
          ]
        }
      ]
    },
    {
      "cell_type": "code",
      "source": [
        "from google.colab.patches import cv2_imshow\n",
        "import cv2\n",
        "img = cv2.imread('Traditional-Dance-Classification/dataset/train/' + str(train_df['Image'][4]))\n",
        "cv2_imshow(img)\n",
        "img.shape\n"
      ],
      "metadata": {
        "id": "GeKf0H32Alj_"
      },
      "execution_count": null,
      "outputs": []
    },
    {
      "cell_type": "code",
      "source": [
        "train_df['target'].value_counts()"
      ],
      "metadata": {
        "id": "Q5ruIfxBAlmF"
      },
      "execution_count": null,
      "outputs": []
    },
    {
      "cell_type": "code",
      "source": [
        "\n",
        "from sklearn.model_selection import train_test_split\n",
        "train, validate = train_test_split(train_df, test_size = 0.25, random_state = 1)\n",
        "\n",
        "train['target'].value_counts()\n",
        "\n",
        "validate['target'].value_counts()"
      ],
      "metadata": {
        "colab": {
          "base_uri": "https://localhost:8080/",
          "height": 36
        },
        "id": "WFiwKWeVAloR",
        "outputId": "a1350ee4-750e-431b-8fa3-4dc00ac45ba0"
      },
      "execution_count": 1,
      "outputs": [
        {
          "output_type": "execute_result",
          "data": {
            "text/plain": [
              "'# Spliting Train and Test Data'"
            ],
            "application/vnd.google.colaboratory.intrinsic+json": {
              "type": "string"
            }
          },
          "metadata": {},
          "execution_count": 1
        }
      ]
    },
    {
      "cell_type": "markdown",
      "source": [],
      "metadata": {
        "id": "WWUCumnoA4tt"
      }
    },
    {
      "cell_type": "code",
      "source": [
        "import tensorflow as tf\n",
        "from tensorflow.keras.models import Sequential\n",
        "from tensorflow.keras.layers import Conv2D, MaxPooling2D, Dropout\n",
        "from tensorflow.keras.layers import Dense,Flatten\n",
        "from tensorflow.keras.optimizers import Adam\n",
        "from tensorflow.keras.layers import BatchNormalization\n",
        "from tensorflow.keras import activations\n",
        "from tensorflow.keras import layers\n",
        "import numpy as np"
      ],
      "metadata": {
        "id": "hMASy1qZAlro"
      },
      "execution_count": null,
      "outputs": []
    },
    {
      "cell_type": "code",
      "source": [
        "classifier = Sequential()\n",
        "\n",
        "classifier.add(Conv2D(32, (3,3), input_shape = (128,128,3), activation = 'relu'))\n",
        "#classifier.add(BatchNormalization())\n",
        "#classifier.add(layers.Activation('relu'))\n",
        "classifier.add(MaxPooling2D(pool_size = (2,2)))\n",
        "#classifier.add(Dropout(0.5))\n",
        "\n",
        "classifier.add(Conv2D(64, (3,3), activation = 'relu'))\n",
        "#classifier.add(BatchNormalization())\n",
        "#classifier.add(layers.Activation('relu'))\n",
        "classifier.add(MaxPooling2D(pool_size = (2,2)))\n",
        "classifier.add(Dropout(0.5))\n",
        "\n",
        "classifier.add(Conv2D(128, (3,3), activation = 'relu'))\n",
        "classifier.add(MaxPooling2D(pool_size = (2,2)))\n",
        "classifier.add(Dropout(0.5))\n",
        "\n",
        "classifier.add(Flatten())\n",
        "classifier.add(Dense(units = 128, activation = 'relu'))\n",
        "classifier.add(Dropout(0.5))\n",
        "classifier.add(Dense(units = 8, activation = 'softmax'))\n",
        "\n",
        "classifier.compile(loss = 'categorical_crossentropy', \n",
        "                   optimizer='adam',\n",
        "                   metrics = ['accuracy'])\n",
        "\n",
        "classifier.summary()"
      ],
      "metadata": {
        "id": "SEZY53WMAluG"
      },
      "execution_count": null,
      "outputs": []
    },
    {
      "cell_type": "code",
      "source": [
        "from keras.preprocessing.image import ImageDataGenerator"
      ],
      "metadata": {
        "id": "-tZ2TEyKAlvo"
      },
      "execution_count": null,
      "outputs": []
    },
    {
      "cell_type": "markdown",
      "source": [],
      "metadata": {
        "id": "kFS5P6MBBOVJ"
      }
    },
    {
      "cell_type": "code",
      "source": [
        "train_image_data = ImageDataGenerator(rescale = 1./255,\n",
        "                                      shear_range = 0.2,\n",
        "                                      zoom_range = 0.2,\n",
        "                                      horizontal_flip = True,\n",
        "                                      vertical_flip = True)\n",
        "val_image_data = ImageDataGenerator(rescale = 1./255)"
      ],
      "metadata": {
        "id": "m3jx8sVoAlyE"
      },
      "execution_count": null,
      "outputs": []
    },
    {
      "cell_type": "code",
      "source": [
        "train_generator = train_image_data.flow_from_dataframe(dataframe = train,\n",
        "                                                       directory = 'Traditional-Dance-Classification/dataset/train',\n",
        "                                                       x_col = 'Image',\n",
        "                                                       y_col = 'target',\n",
        "                                                       batch_size = 32,\n",
        "                                                       class_mode = 'categorical',\n",
        "                                                       shuffle = True,\n",
        "                                                       target_size = (128,128))\n"
      ],
      "metadata": {
        "id": "artTAzHaAl13"
      },
      "execution_count": null,
      "outputs": []
    },
    {
      "cell_type": "code",
      "source": [
        "test_generator = val_image_data.flow_from_dataframe(dataframe = validate,\n",
        "                                                    directory = 'Traditional-Dance-Classification/dataset/train',\n",
        "                                                    x_col = 'Image',\n",
        "                                                    y_col = 'target',\n",
        "                                                    batch_size = 32,\n",
        "                                                    class_mode = 'categorical',\n",
        "                                                    shuffle = True,\n",
        "                                                    target_size = (128,128))\n"
      ],
      "metadata": {
        "id": "c2ZS7dMGAl3_"
      },
      "execution_count": null,
      "outputs": []
    },
    {
      "cell_type": "markdown",
      "source": [],
      "metadata": {
        "id": "RIu22EKIBdAx"
      }
    },
    {
      "cell_type": "code",
      "source": [
        "trained_model = classifier.fit(train_generator,\n",
        "                               validation_data = test_generator,\n",
        "                               epochs = 100)\n"
      ],
      "metadata": {
        "id": "iZ01natPAl7p"
      },
      "execution_count": null,
      "outputs": []
    },
    {
      "cell_type": "code",
      "source": [
        "classifier.evaluate_generator(generator=test_generator)\n",
        "classifier.save('trained_model.h5')\n"
      ],
      "metadata": {
        "id": "0xCoVMLsAl9s"
      },
      "execution_count": null,
      "outputs": []
    },
    {
      "cell_type": "code",
      "source": [
        "import matplotlib.pyplot as plt\n",
        "print(trained_model.history.keys())\n",
        "\n",
        "plt.plot(trained_model.history['loss'])\n",
        "plt.plot(trained_model.history['val_loss'])\n",
        "plt.title('model loss')\n",
        "plt.ylabel('loss')\n",
        "plt.xlabel('epoch')\n",
        "plt.legend(['loss', 'val_loss'], loc='upper left')\n",
        "plt.show()\n"
      ],
      "metadata": {
        "id": "KvJg2d8HAl_S"
      },
      "execution_count": null,
      "outputs": []
    }
  ]
}